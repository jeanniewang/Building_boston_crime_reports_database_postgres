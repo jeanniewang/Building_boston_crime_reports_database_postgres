{
 "cells": [
  {
   "cell_type": "markdown",
   "id": "1e2ffd34",
   "metadata": {},
   "source": [
    "###  Building a postgres database for crime reports"
   ]
  },
  {
   "cell_type": "markdown",
   "id": "2da80b6e",
   "metadata": {},
   "source": [
    "The goal of this guided project is for you to create a database named crimes_db with a table – boston_crimes – with appropriate datatypes for storing the data from the boston.csv file.\n",
    "\n",
    "You will be creating the table inside a schema named crimes. You will also create the readonly and readwrite groups with the appropriate privileges as we have discussed in this course. Finally, you will also need to create one user for each of these groups."
   ]
  },
  {
   "cell_type": "markdown",
   "id": "3691208b",
   "metadata": {},
   "source": [
    "This dataset is available in the file boston.csv. The first four rows are shown here:\n",
    "\n",
    "<img src=\"first_five_row.png\">"
   ]
  },
  {
   "cell_type": "code",
   "execution_count": 1,
   "id": "0b35a187",
   "metadata": {},
   "outputs": [],
   "source": [
    "import psycopg2\n",
    "\n",
    "# establishing the connection and create \n",
    "conn = psycopg2.connect(\n",
    "   database=\"postgres\", user='postgres', password='123456', host='127.0.0.1', port= '5432'\n",
    ")\n",
    "cur = conn.cursor()\n",
    "conn.autocommit = True\n",
    "cur.execute(\"DROP DATABASE crime_db\")\n",
    "cur.execute(\"CREATE DATABASE crime_db;\")\n",
    "conn.autocommit = False\n",
    "conn.close()"
   ]
  },
  {
   "cell_type": "code",
   "execution_count": 2,
   "id": "a926d6e8",
   "metadata": {},
   "outputs": [],
   "source": [
    "# CONNECT TO THE crime_db\n",
    "conn = psycopg2.connect(\n",
    "    dbname=\"crime_db\", user=\"postgres\", password=\"123456\", host='127.0.0.1', port= '5432'\n",
    ")\n",
    "cur = conn.cursor()\n",
    "cur.execute(\"CREATE SCHEMA crimes\")\n",
    "conn.commit()\n",
    "conn.close()"
   ]
  },
  {
   "cell_type": "code",
   "execution_count": 3,
   "id": "613096a9",
   "metadata": {},
   "outputs": [
    {
     "name": "stdout",
     "output_type": "stream",
     "text": [
      "['incident_number', 'offense_code', 'description', 'date', 'day_of_the_week', 'lat', 'long'] ['1', '619', 'LARCENY ALL OTHERS', '2018-09-02', 'Sunday', '42.35779134', '-71.13937053']\n"
     ]
    }
   ],
   "source": [
    "import csv\n",
    "with open(\"boston.csv\", mode='r') as file:\n",
    "    reader = csv.reader(file)\n",
    "    (col_headers, first_row)=[row for idx, row in enumerate(reader) if idx in (0,1)]\n",
    "    print(col_headers, first_row)"
   ]
  },
  {
   "cell_type": "code",
   "execution_count": 4,
   "id": "258397f4",
   "metadata": {},
   "outputs": [
    {
     "name": "stdout",
     "output_type": "stream",
     "text": [
      "The first 10 elements in Column 0\n",
      "The length of Column 0 is 298329\n",
      "['244802', '265135', '106122', '213500', '233918', '10756', '55104', '95131', '276256', '221']\n",
      "\n",
      "\n",
      "The first 10 elements in Column 1\n",
      "The length of Column 1 is 219\n",
      "['2617', '1843', '613', '3830', '3625', '3029', '623', '3203', '1842', '1601']\n",
      "\n",
      "\n",
      "The first 10 elements in Column 2\n",
      "The length of Column 2 is 239\n",
      "['DISORDERLY CONDUCT', 'PROSTITUTION', 'ROBBERY - STREET', 'PROPERTY - RECEIVING STOLEN', 'M/V ACCIDENT - PROPERTY Â\\xa0DAMAGE', 'LARCENY THEFT OF BICYCLE', 'M/V ACCIDENT - INVOLVING PEDESTRIAN - NO INJURY', 'ANNOYING AND ACCOSTIN', 'CRIMINAL HARASSMENT', 'ASSAULT - AGGRAVATED']\n",
      "\n",
      "\n",
      "The first 10 elements in Column 3\n",
      "The length of Column 3 is 1177\n",
      "['2017-03-19', '2016-07-13', '2018-02-17', '2017-03-07', '2018-02-15', '2016-07-11', '2015-10-08', '2017-02-06', '2018-04-28', '2015-11-02']\n",
      "\n",
      "\n",
      "The first 10 elements in Column 4\n",
      "The length of Column 4 is 7\n",
      "['Friday', 'Thursday', 'Tuesday', 'Sunday', 'Monday', 'Wednesday', 'Saturday']\n",
      "\n",
      "\n",
      "The first 10 elements in Column 5\n",
      "The length of Column 5 is 18177\n",
      "['42.34394269', '42.28543105', '42.32614559', '42.32890025', '42.33169546', '42.29173524', '42.344684', '42.32292832', '42.31459425', '42.33009059']\n",
      "\n",
      "\n",
      "The first 10 elements in Column 6\n",
      "The length of Column 6 is 18177\n",
      "['-71.13349324', '-71.07350852', '-71.13475583', '-71.08089418', '-71.08334734', '-71.0820187', '-71.07700218', '-71.05436589', '-71.05504339', '-71.12769723']\n",
      "\n",
      "\n"
     ]
    }
   ],
   "source": [
    "# identify the proper datatype for the columns\n",
    "def get_col_set(csv_filename, col_index):\n",
    "    with open(csv_filename) as file:\n",
    "        reader = csv.reader(file)\n",
    "        next(reader)\n",
    "        col_result = set()\n",
    "        for row in reader:\n",
    "            col_result.add(row[col_index])\n",
    "    return col_result\n",
    "\n",
    "for index in range(len(col_headers)):\n",
    "    result = get_col_set('boston.csv',index)\n",
    "    print('The first 10 elements in Column {}'.format(index))\n",
    "    print('The length of Column {} is {}'.format(index, len(result)))\n",
    "    column = list(result)\n",
    "    print(column[:10])\n",
    "    print('\\n')"
   ]
  },
  {
   "cell_type": "code",
   "execution_count": 5,
   "id": "6819744a",
   "metadata": {},
   "outputs": [
    {
     "name": "stdout",
     "output_type": "stream",
     "text": [
      "58\n"
     ]
    }
   ],
   "source": [
    "# Column incident_number INTEGER\n",
    "# Column offense_code smallint\n",
    "# Column description varchar(n)\n",
    "# Column date timestamp\n",
    "# Column day_of_the_week ENUM\n",
    "# Column lat float8\n",
    "# Column long float8\n",
    "\n",
    "# Find out the maximum number of digit in description text\n",
    "column_desc = list(get_col_set('boston.csv', 2))\n",
    "def find_max_number_char(column_set_as_list):\n",
    "    max = 0\n",
    "    for item in column_set_as_list:\n",
    "        if len(item) > max:\n",
    "            max = len(item)\n",
    "    return max\n",
    "print(find_max_number_char(column_desc))"
   ]
  },
  {
   "cell_type": "code",
   "execution_count": 6,
   "id": "c275d804",
   "metadata": {},
   "outputs": [],
   "source": [
    "conn = psycopg2.connect(\n",
    "    dbname=\"crime_db\", user=\"postgres\", password=\"123456\", host='127.0.0.1', port= '5432'\n",
    ")\n",
    "cur = conn.cursor()\n",
    "\n",
    "cur.execute(\n",
    "    \"\"\"\n",
    "    CREATE TYPE week_of_the_day_enum AS ENUM (\n",
    "    'Sunday', 'Monday', 'Wednesday', 'Thursday', 'Friday', 'Saturday', 'Tuesday'\n",
    "    );\n",
    "    \"\"\"\n",
    ")\n",
    "\n",
    "cur.execute(\n",
    "    \"\"\"\n",
    "    CREATE TABLE crimes.boston_crimes(\n",
    "        incident_number INTEGER PRIMARY KEY,\n",
    "        offense_code smallint,\n",
    "        description varchar(60),\n",
    "        date timestamp,\n",
    "        week_of_the_day week_of_the_day_enum,\n",
    "        lat float8,\n",
    "        long float8\n",
    "    );\n",
    "    \"\"\"\n",
    ")\n",
    "\n",
    "conn.commit()"
   ]
  },
  {
   "cell_type": "code",
   "execution_count": 7,
   "id": "7dae18c1",
   "metadata": {},
   "outputs": [],
   "source": [
    "conn = psycopg2.connect(\n",
    "    dbname=\"crime_db\", user=\"postgres\", password=\"123456\", host='127.0.0.1', port= '5432'\n",
    ")\n",
    "cur = conn.cursor()\n",
    "with open('boston.csv', mode='r') as file:\n",
    "    cur.copy_expert(\"COPY crimes.boston_crimes FROM STDIN WITH CSV HEADER\", file)\n",
    "conn.commit()"
   ]
  },
  {
   "cell_type": "code",
   "execution_count": 8,
   "id": "18f4655c",
   "metadata": {},
   "outputs": [
    {
     "name": "stdout",
     "output_type": "stream",
     "text": [
      "[(1, 619, 'LARCENY ALL OTHERS', datetime.datetime(2018, 9, 2, 0, 0), 'Sunday', 42.35779134, -71.13937053), (2, 1402, 'VANDALISM', datetime.datetime(2018, 8, 21, 0, 0), 'Tuesday', 42.30682138, -71.06030035), (3, 3410, 'TOWED MOTOR VEHICLE', datetime.datetime(2018, 9, 3, 0, 0), 'Monday', 42.34658879, -71.07242943), (4, 3114, 'INVESTIGATE PROPERTY', datetime.datetime(2018, 9, 3, 0, 0), 'Monday', 42.33418175, -71.07866441), (5, 3114, 'INVESTIGATE PROPERTY', datetime.datetime(2018, 9, 3, 0, 0), 'Monday', 42.27536542, -71.09036101), (6, 3820, 'M/V ACCIDENT INVOLVING PEDESTRIAN - INJURY', datetime.datetime(2018, 9, 3, 0, 0), 'Monday', 42.29019621, -71.07159012), (7, 724, 'AUTO THEFT', datetime.datetime(2018, 9, 3, 0, 0), 'Monday', 42.30607218, -71.0827326), (8, 3301, 'VERBAL DISPUTE', datetime.datetime(2018, 9, 3, 0, 0), 'Monday', 42.32701648, -71.10555088), (9, 301, 'ROBBERY - STREET', datetime.datetime(2018, 9, 3, 0, 0), 'Monday', 42.33152148, -71.07085307), (10, 3301, 'VERBAL DISPUTE', datetime.datetime(2018, 9, 3, 0, 0), 'Monday', 42.29514664, -71.05860832)]\n"
     ]
    }
   ],
   "source": [
    "conn = psycopg2.connect(\n",
    "    dbname=\"crime_db\", user=\"postgres\", password=\"123456\", host='127.0.0.1', port= '5432'\n",
    ")\n",
    "cur = conn.cursor()\n",
    "cur.execute(\"\"\"\n",
    "SELECT \n",
    "   *\n",
    "FROM \n",
    "   crimes.boston_crimes\n",
    "LIMIT 10\n",
    "\"\"\")\n",
    "result = cur.fetchmany(10)\n",
    "print(result)\n",
    "conn.close()"
   ]
  },
  {
   "cell_type": "markdown",
   "id": "a05ca230",
   "metadata": {},
   "source": [
    "Now it is time to handle users. Our goal is to create the two user groups: readonly and readwrite. By following the [least privilege principle](https://en.wikipedia.org/wiki/Principle_of_least_privilege), the first step in doing so is to make sure that there are no privileges inherited from the public group and on the public schema."
   ]
  },
  {
   "cell_type": "code",
   "execution_count": 9,
   "id": "723ac789",
   "metadata": {},
   "outputs": [],
   "source": [
    "conn = psycopg2.connect(\n",
    "    dbname=\"crime_db\", user=\"postgres\", password=\"123456\", host='127.0.0.1', port= '5432'\n",
    ")\n",
    "cur = conn.cursor()\n",
    "cur.execute(\"REVOKE ALL ON DATABASE crime_db FROM public;\")\n",
    "cur.execute(\"REVOKE ALL ON SCHEMA public FROM public;\")\n",
    "conn.commit()"
   ]
  },
  {
   "cell_type": "code",
   "execution_count": 10,
   "id": "4fa3ff3e",
   "metadata": {},
   "outputs": [],
   "source": [
    "conn = psycopg2.connect(\n",
    "    dbname=\"crime_db\", user=\"postgres\", password=\"123456\", host='127.0.0.1', port= '5432'\n",
    ")\n",
    "cur = conn.cursor()\n",
    "cur.execute(\"DROP GROUP readonly\")\n",
    "cur.execute(\"CREATE GROUP readonly NOLOGIN\")\n",
    "cur.execute(\"REVOKE ALL ON crimes.boston_crimes from readonly;\")\n",
    "cur.execute(\"GRANT SELECT ON crimes.boston_crimes TO readonly;\")\n",
    "\n",
    "cur.execute(\"DROP GROUP readwrite\")\n",
    "cur.execute(\"CREATE GROUP readwrite NOLOGIN\")\n",
    "cur.execute(\"REVOKE ALL ON crimes.boston_crimes from readwrite\")\n",
    "cur.execute(\"GRANT SELECT, INSERT, UPDATE, DELETE ON crimes.boston_crimes TO readwrite;\")\n",
    "\n",
    "conn.commit()"
   ]
  },
  {
   "cell_type": "code",
   "execution_count": 11,
   "id": "eb293b6c",
   "metadata": {},
   "outputs": [],
   "source": [
    "conn = psycopg2.connect(\n",
    "    dbname=\"crime_db\", user=\"postgres\", password=\"123456\", host='127.0.0.1', port= '5432'\n",
    ")\n",
    "cur = conn.cursor()\n",
    "cur.execute(\"GRANT CONNECT ON DATABASE crime_db TO readonly\")\n",
    "cur.execute(\"GRANT CONNECT ON DATABASE crime_db TO readwrite\")\n",
    "cur.execute(\"GRANT USAGE ON SCHEMA crimes TO readonly\")\n",
    "cur.execute(\"GRANT USAGE ON SCHEMA crimes TO readwrite\")\n",
    "conn.commit()"
   ]
  },
  {
   "cell_type": "code",
   "execution_count": 12,
   "id": "f4305d65",
   "metadata": {},
   "outputs": [],
   "source": [
    "conn = psycopg2.connect(\n",
    "    dbname=\"crime_db\", user=\"postgres\", password=\"123456\", host='127.0.0.1', port= '5432'\n",
    ")\n",
    "cur = conn.cursor()\n",
    "cur.execute(\"DROP USER data_analyst\")\n",
    "cur.execute(\"CREATE USER data_analyst WITH PASSWORD 'secret1'\")\n",
    "cur.execute(\"GRANT readonly TO data_analyst\")\n",
    "cur.execute(\"DROP USER data_scientist\")\n",
    "cur.execute(\"CREATE USER data_scientist WITH PASSWORD 'secret2'\")\n",
    "cur.execute(\"GRANT readwrite TO data_scientist\")\n",
    "conn.commit()"
   ]
  },
  {
   "cell_type": "code",
   "execution_count": 13,
   "id": "5f09140b",
   "metadata": {},
   "outputs": [
    {
     "name": "stdout",
     "output_type": "stream",
     "text": [
      "[('postgres', 10, True, True, True, True, '********', None, None), ('data_analyst', 49328, False, False, False, False, '********', None, None), ('data_scientist', 49329, False, False, False, False, '********', None, None)]\n",
      "[('readwrite', 'INSERT'), ('readwrite', 'SELECT'), ('readwrite', 'UPDATE'), ('readwrite', 'DELETE')]\n",
      "[('readonly', 'SELECT')]\n"
     ]
    }
   ],
   "source": [
    "conn = psycopg2.connect(\n",
    "    dbname=\"crime_db\", user=\"postgres\", password=\"123456\", host='127.0.0.1', port= '5432'\n",
    ")\n",
    "cur = conn.cursor()\n",
    "cur.execute(\"SELECT * FROM pg_user\")\n",
    "print(cur.fetchall())\n",
    "\n",
    "cur.execute(\"\"\"\n",
    "    SELECT grantee, privilege_type\n",
    "        FROM information_schema.table_privileges\n",
    "        WHERE grantee = 'readwrite';\n",
    "\"\"\")\n",
    "print(cur.fetchall())\n",
    "\n",
    "cur.execute(\"\"\"\n",
    "    SELECT grantee, privilege_type\n",
    "        FROM information_schema.table_privileges\n",
    "        WHERE grantee = 'readonly';\n",
    "\"\"\")\n",
    "print(cur.fetchall())"
   ]
  },
  {
   "cell_type": "markdown",
   "id": "cf792ae0",
   "metadata": {},
   "source": [
    "<img src=\"crime_db_relation.png\">"
   ]
  },
  {
   "cell_type": "code",
   "execution_count": null,
   "id": "8b078405",
   "metadata": {},
   "outputs": [],
   "source": []
  }
 ],
 "metadata": {
  "kernelspec": {
   "display_name": "Python 3 (ipykernel)",
   "language": "python",
   "name": "python3"
  },
  "language_info": {
   "codemirror_mode": {
    "name": "ipython",
    "version": 3
   },
   "file_extension": ".py",
   "mimetype": "text/x-python",
   "name": "python",
   "nbconvert_exporter": "python",
   "pygments_lexer": "ipython3",
   "version": "3.7.6"
  }
 },
 "nbformat": 4,
 "nbformat_minor": 5
}
